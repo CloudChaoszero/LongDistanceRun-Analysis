{
 "cells": [
  {
   "cell_type": "code",
   "execution_count": 1,
   "metadata": {},
   "outputs": [],
   "source": [
    "import os\n",
    "import sys\n",
    "sys.path.insert(0,os.path.join(\"..\",\"Resources\",\"AccessInformation\"))\n",
    "\n",
    "from accessinformation import access_token\n",
    "from stravalib import Client , unithelper\n",
    "\n",
    "import pandas as pd\n",
    "import numpy as np\n",
    "\n",
    "client = Client(access_token =access_token)"
   ]
  },
  {
   "cell_type": "code",
   "execution_count": 2,
   "metadata": {},
   "outputs": [
    {
     "name": "stdout",
     "output_type": "stream",
     "text": [
      "Runner information: Raul Maldonado\n"
     ]
    }
   ],
   "source": [
    "print(f'Runner information: {client.get_athlete().firstname} {client.get_athlete().lastname}')"
   ]
  },
  {
   "cell_type": "code",
   "execution_count": 3,
   "metadata": {},
   "outputs": [],
   "source": [
    "def AthleteActivities(client):\n",
    "    return(client.get_activities())\n",
    "\n",
    "# def Streams(client_id, activity, types):\n",
    "#     streams = client_id.get_activity_streams(activity, types=types, series_type='time')\n",
    "#     return(streams)\n",
    "# activities = AthleteActivities(client)"
   ]
  },
  {
   "cell_type": "code",
   "execution_count": 4,
   "metadata": {},
   "outputs": [],
   "source": [
    "types = ['time', 'distance', 'latlng', 'altitude', 'velocity_smooth', 'moving', 'grade_smooth', 'temp']\n",
    "def getActivityStream(activitiesObject):\n",
    "    dataFrameDictionary = {}\n",
    "    for activity in activitiesObject:\n",
    "        try:\n",
    "            actID = activity.id\n",
    "            actName = activity.name\n",
    "            streamObject = client.get_activity_streams(actID, types=types, series_type='time')\n",
    "            columns = [\"LatLong\",\"Time\",\"Distance\",\"Altitude\",\"Grade_Smooth\",\"Moving\",\"Velocity_Smooth\"]\n",
    "\n",
    "            df=pd.DataFrame({\"LatLong\": streamObject['latlng'].data, \"Time\": streamObject['time'].data \n",
    "                            ,\"Distance\": streamObject['distance'].data,\"Altitude\": streamObject['altitude'].data \n",
    "                           ,\"Grade_Smooth\": streamObject['grade_smooth'].data, 'Moving': streamObject['moving'].data \n",
    "                           ,\"Velocity_Smooth\":streamObject['velocity_smooth'].data})\n",
    "            df['Latitude'] = df['LatLong'].apply(lambda x: x[0])\n",
    "            df['Longitude'] = df['LatLong'].apply(lambda x: x[1])\n",
    "            df.drop('LatLong',inplace = True,axis=1)\n",
    "        except KeyError as e:\n",
    "            continue\n",
    "        dataFrameDictionary[f'{actName}-{actID}'] = df\n",
    "    return(dataFrameDictionary)"
   ]
  },
  {
   "cell_type": "code",
   "execution_count": 5,
   "metadata": {},
   "outputs": [],
   "source": [
    "b= getActivityStream(AthleteActivities(client))"
   ]
  },
  {
   "cell_type": "code",
   "execution_count": 6,
   "metadata": {},
   "outputs": [
    {
     "data": {
      "text/plain": [
       "['Morning Run-1630362753',\n",
       " 'Evening Run-1613117165',\n",
       " 'Afternoon Walk-1604155796',\n",
       " 'Lunch Run-1562580337',\n",
       " 'Evening Run-1506879875',\n",
       " 'Night Run-1497995210',\n",
       " 'Evening Run-1480841286',\n",
       " 'Lunch Run-1459914644',\n",
       " 'Evening Run-1448721598',\n",
       " 'Morning Run-1444025358',\n",
       " 'Lunch Run-1442972869',\n",
       " 'Lunch Run-1440665718',\n",
       " 'Morning Run-1440666108',\n",
       " 'Evening Run-1440666056']"
      ]
     },
     "execution_count": 6,
     "metadata": {},
     "output_type": "execute_result"
    }
   ],
   "source": [
    "list(b.keys())"
   ]
  },
  {
   "cell_type": "code",
   "execution_count": null,
   "metadata": {},
   "outputs": [],
   "source": []
  },
  {
   "cell_type": "code",
   "execution_count": null,
   "metadata": {},
   "outputs": [],
   "source": []
  },
  {
   "cell_type": "code",
   "execution_count": 175,
   "metadata": {},
   "outputs": [
    {
     "name": "stdout",
     "output_type": "stream",
     "text": [
      "[[37.740575, -122.494204], [37.740761, -122.494212], [37.740857, -122.494217], [37.741058, -122.494225], [37.74124, -122.494236], [37.74142, -122.494241], [37.741628, -122.494245], [37.741702, -122.494246], [37.741882, -122.494269], [37.742002, -122.494293]]\n",
      "[0, 8, 12, 21, 29, 37, 46, 49, 56, 62]\n",
      "[0.0, 20.8, 31.4, 53.8, 74.0, 94.0, 117.2, 125.4, 145.5, 158.9]\n",
      "[38.2, 38.5, 39.0, 39.7, 40.4, 41.0, 41.4, 41.5, 41.9, 42.4]\n",
      "[2.5, 2.8, 3.0, 3.4, 2.8, 2.5, 2.1, 2.2, 2.7, 2.8]\n",
      "[False, True, True, True, True, True, True, True, True, True]\n",
      "[0.0, 2.6, 2.6, 2.5, 2.5, 2.5, 2.5, 2.6, 2.8, 2.6]\n"
     ]
    }
   ],
   "source": [
    "for a in client.get_activity_streams('1630362753', types=types, series_type='time').values():\n",
    "    print(a.data[:][:10])\n"
   ]
  },
  {
   "cell_type": "code",
   "execution_count": null,
   "metadata": {},
   "outputs": [],
   "source": []
  },
  {
   "cell_type": "code",
   "execution_count": null,
   "metadata": {},
   "outputs": [],
   "source": []
  }
 ],
 "metadata": {
  "kernelspec": {
   "display_name": "CCAnalysis-env",
   "language": "python",
   "name": "ccanalysis-env"
  },
  "language_info": {
   "codemirror_mode": {
    "name": "ipython",
    "version": 3
   },
   "file_extension": ".py",
   "mimetype": "text/x-python",
   "name": "python",
   "nbconvert_exporter": "python",
   "pygments_lexer": "ipython3",
   "version": "3.6.3"
  }
 },
 "nbformat": 4,
 "nbformat_minor": 2
}
