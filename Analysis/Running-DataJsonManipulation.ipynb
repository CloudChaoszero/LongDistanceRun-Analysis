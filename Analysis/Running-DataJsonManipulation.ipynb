{
 "cells": [
  {
   "cell_type": "markdown",
   "metadata": {},
   "source": [
    "# Data ETL\n",
    "\n",
    "## Import Modules"
   ]
  },
  {
   "cell_type": "code",
   "execution_count": 8,
   "metadata": {},
   "outputs": [],
   "source": [
    "import os\n",
    "import sys\n",
    "sys.path.insert(0,os.path.join(\"..\",\"Resources\",\"AccessInformation\"))\n",
    "\n",
    "from accessinformation import access_token\n",
    "from stravalib import Client , unithelper\n",
    "\n",
    "import pandas as pd\n",
    "import numpy as np\n",
    "\n",
    "client = Client(access_token =access_token)"
   ]
  },
  {
   "cell_type": "code",
   "execution_count": null,
   "metadata": {},
   "outputs": [],
   "source": []
  },
  {
   "cell_type": "markdown",
   "metadata": {},
   "source": [
    "## Structuring Data for JSON Export"
   ]
  },
  {
   "cell_type": "code",
   "execution_count": 9,
   "metadata": {},
   "outputs": [
    {
     "name": "stdout",
     "output_type": "stream",
     "text": [
      "Runner information: Raul Maldonado\n"
     ]
    }
   ],
   "source": [
    "print(f'Runner information: {client.get_athlete().firstname} {client.get_athlete().lastname}')"
   ]
  },
  {
   "cell_type": "code",
   "execution_count": 10,
   "metadata": {},
   "outputs": [],
   "source": [
    "def AthleteActivities(client):\n",
    "    return(client.get_activities())\n",
    "\n",
    "# def Streams(client_id, activity, types):\n",
    "#     streams = client_id.get_activity_streams(activity, types=types, series_type='time')\n",
    "#     return(streams)\n",
    "# activities = AthleteActivities(client)"
   ]
  },
  {
   "cell_type": "code",
   "execution_count": 11,
   "metadata": {},
   "outputs": [],
   "source": [
    "types = ['time', 'distance', 'latlng', 'altitude', 'velocity_smooth', 'moving', 'grade_smooth', 'temp']\n",
    "def getActivityStream(activitiesObject):\n",
    "    dataFrameDictionary = {}\n",
    "    for activity in activitiesObject:\n",
    "        try:\n",
    "            actID = activity.id\n",
    "            actName = activity.name\n",
    "            streamObject = client.get_activity_streams(actID, types=types, series_type='time')\n",
    "            columns = [\"LatLong\",\"Time\",\"Distance\",\"Altitude\",\"Grade_Smooth\",\"Moving\",\"Velocity_Smooth\"]\n",
    "\n",
    "            df=pd.DataFrame({\"LatLong\": streamObject['latlng'].data, \"Time\": streamObject['time'].data \n",
    "                            ,\"Distance\": streamObject['distance'].data,\"Altitude\": streamObject['altitude'].data \n",
    "                           ,\"Grade_Smooth\": streamObject['grade_smooth'].data, 'Moving': streamObject['moving'].data \n",
    "                           ,\"Velocity_Smooth\":streamObject['velocity_smooth'].data})\n",
    "            df['Latitude'] = df['LatLong'].apply(lambda x: x[0])\n",
    "            df['Longitude'] = df['LatLong'].apply(lambda x: x[1])\n",
    "            df.drop('LatLong',inplace = True,axis=1)\n",
    "        except KeyError as e:\n",
    "            continue\n",
    "        dataFrameDictionary[f'{actName.replace(\" \",\"\")}-{actID}'] = df\n",
    "    return(dataFrameDictionary)"
   ]
  },
  {
   "cell_type": "code",
   "execution_count": 12,
   "metadata": {},
   "outputs": [],
   "source": [
    "dataframe_dictionary = getActivityStream(AthleteActivities(client))"
   ]
  },
  {
   "cell_type": "markdown",
   "metadata": {},
   "source": [
    "# Export Dictionary of Dataframes to Json files"
   ]
  },
  {
   "cell_type": "code",
   "execution_count": 17,
   "metadata": {},
   "outputs": [],
   "source": [
    "for key,values in dataframe_dictionary.items():\n",
    "    values.to_json(f\"../Data/JSONData/{key}.json\", orient='records')"
   ]
  }
 ],
 "metadata": {
  "kernelspec": {
   "display_name": "CCAnalysis-env",
   "language": "python",
   "name": "ccanalysis-env"
  },
  "language_info": {
   "codemirror_mode": {
    "name": "ipython",
    "version": 3
   },
   "file_extension": ".py",
   "mimetype": "text/x-python",
   "name": "python",
   "nbconvert_exporter": "python",
   "pygments_lexer": "ipython3",
   "version": "3.6.3"
  }
 },
 "nbformat": 4,
 "nbformat_minor": 2
}
