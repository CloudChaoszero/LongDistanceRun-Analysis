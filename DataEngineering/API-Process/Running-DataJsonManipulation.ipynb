{
 "cells": [
  {
   "cell_type": "markdown",
   "metadata": {},
   "source": [
    "# Data ETL\n",
    "\n",
    "## Import Modules"
   ]
  },
  {
   "cell_type": "code",
   "execution_count": 1,
   "metadata": {},
   "outputs": [],
   "source": [
    "import os\n",
    "import sys\n",
    "sys.path.insert(0,os.path.join(\"..\",\"..\",\"Resources\",\"AccessInformation\"))\n",
    "\n",
    "from accessinformation import access_token\n",
    "from stravalib import Client , unithelper\n",
    "\n",
    "import pandas as pd\n",
    "import numpy as np\n",
    "\n",
    "client = Client(access_token =access_token)"
   ]
  },
  {
   "cell_type": "markdown",
   "metadata": {},
   "source": [
    "## Structuring Data for JSON Export"
   ]
  },
  {
   "cell_type": "code",
   "execution_count": 2,
   "metadata": {},
   "outputs": [
    {
     "name": "stdout",
     "output_type": "stream",
     "text": [
      "Runner information: Raul Maldonado\n"
     ]
    }
   ],
   "source": [
    "print(f'Runner information: {client.get_athlete().firstname} {client.get_athlete().lastname}')"
   ]
  },
  {
   "cell_type": "markdown",
   "metadata": {},
   "source": [
    "### Functions"
   ]
  },
  {
   "cell_type": "code",
   "execution_count": 3,
   "metadata": {},
   "outputs": [],
   "source": [
    "'''\n",
    "Function: Athlete Activies\n",
    "\n",
    "Input: client \n",
    "Response: Get activities associated with client from related access_token in client instance above\n",
    "'''\n",
    "def AthleteActivities(client):\n",
    "    return(client.get_activities())\n"
   ]
  },
  {
   "cell_type": "code",
   "execution_count": 4,
   "metadata": {},
   "outputs": [],
   "source": [
    "'''\n",
    "Function: dictionaryOfDf_toDF\n",
    "\n",
    "Input: dictionary \n",
    "Response: convert dictionary of Data Frames to one single datagrame by the pandas' concat function\n",
    "'''\n",
    "def dictionaryOfDF_toDF(diction):\n",
    "    listOfDataFrames = list(diction.values())\n",
    "    df = pd.concat(listOfDataFrames)\n",
    "    return(df)"
   ]
  },
  {
   "cell_type": "code",
   "execution_count": 5,
   "metadata": {},
   "outputs": [],
   "source": [
    "types = ['time', 'heartrate','distance', 'latlng', 'altitude', 'velocity_smooth', \n",
    "                                                'moving', 'grade_smooth', 'temp']\n",
    "\n",
    "\n",
    "'''\n",
    "Function: getActivityStream\n",
    "\n",
    "Input: Activities object from instance of GetActivities from client\n",
    "Response: dictionary of dataframes by required types from list \"types\", seen above.\n",
    "'''\n",
    "def getActivityStream(activitiesObject):\n",
    "    dataFrameDictionary = {}\n",
    "    \n",
    "    #Create Dataframe for each activity in the activities object\n",
    "    for activity in activitiesObject:\n",
    "        try:\n",
    "            '''\n",
    "            Get activity id, name, and types of activity streams from list \"types\"\n",
    "            '''\n",
    "            actID = activity.id\n",
    "            actName = activity.name\n",
    "            streamObject = client.get_activity_streams(actID, types=types, series_type='time')\n",
    "            actID_list = [actID for i in range(len(streamObject['latlng'].data))]\n",
    "            '''\n",
    "            Instantiate pandas dataframe with required type features. Moreover, Latitude, Longitude, and Date's are engineered\n",
    "            into the dataframe\n",
    "            '''\n",
    "            df=pd.DataFrame( {\"ActivityID\": actID_list, \"LatLong\": streamObject['latlng'].data, \"Time\": streamObject['time'].data ,\n",
    "                              \"HeartRate\": streamObject['heartrate'].data, \"Distance\": streamObject['distance'].data,\n",
    "                              \"Altitude\": streamObject['altitude'].data,\"Grade_Smooth\": streamObject['grade_smooth'].data,\n",
    "                              'Moving': streamObject['moving'].data ,\"Velocity_Smooth\":streamObject['velocity_smooth'].data})\n",
    "            \n",
    "            \n",
    "            df['Latitude'] = df['LatLong'].apply(lambda x: x[0])\n",
    "            df['Longitude'] = df['LatLong'].apply(lambda x: x[1])\n",
    "            df.drop('LatLong',inplace = True,axis=1)\n",
    "            \n",
    "            df[\"Date\"] = activity.start_date.date()\n",
    "        \n",
    "        except KeyError as e:\n",
    "            continue\n",
    "        \n",
    "        dataFrameDictionary[f'{actName.replace(\" \",\"\")}-{actID}'] = df\n",
    "    return(dataFrameDictionary)"
   ]
  },
  {
   "cell_type": "code",
   "execution_count": 6,
   "metadata": {},
   "outputs": [],
   "source": [
    "dataframe_dictionary = getActivityStream(AthleteActivities(client))"
   ]
  },
  {
   "cell_type": "code",
   "execution_count": 18,
   "metadata": {},
   "outputs": [
    {
     "data": {
      "text/plain": [
       "Quantity(0         0.0\n",
       "1        15.2\n",
       "2        35.5\n",
       "3        40.4\n",
       "4        60.6\n",
       "5        83.0\n",
       "6        91.3\n",
       "7       113.2\n",
       "8       135.8\n",
       "9       156.0\n",
       "10      179.3\n",
       "11      188.0\n",
       "12      209.9\n",
       "13      219.0\n",
       "14      241.8\n",
       "15      262.9\n",
       "16      283.5\n",
       "17      298.4\n",
       "18      318.9\n",
       "19      330.7\n",
       "20      352.9\n",
       "21      374.9\n",
       "22      380.7\n",
       "23      397.2\n",
       "24      403.8\n",
       "25      410.0\n",
       "26      417.5\n",
       "27      423.0\n",
       "28      435.2\n",
       "29      458.0\n",
       "        ...  \n",
       "271    4510.5\n",
       "272    4532.9\n",
       "273    4541.2\n",
       "274    4562.9\n",
       "275    4578.6\n",
       "276    4599.6\n",
       "277    4602.0\n",
       "278    4620.6\n",
       "279    4642.3\n",
       "280    4656.4\n",
       "281    4671.0\n",
       "282    4691.3\n",
       "283    4713.3\n",
       "284    4733.9\n",
       "285    4756.3\n",
       "286    4777.3\n",
       "287    4786.7\n",
       "288    4801.8\n",
       "289    4803.9\n",
       "290    4821.7\n",
       "291    4829.6\n",
       "292    4850.0\n",
       "293    4871.5\n",
       "294    4893.5\n",
       "295    4895.2\n",
       "296    4914.1\n",
       "297    4933.8\n",
       "298    4943.9\n",
       "299    4963.9\n",
       "300    4975.0\n",
       "Name: Distance, Length: 301, dtype: float64, NamedComposedUnit('mi', ComposedUnit([NamedComposedUnit('fur', ComposedUnit([NamedComposedUnit('rd', ComposedUnit([NamedComposedUnit('yd', ComposedUnit([NamedComposedUnit('ft', ComposedUnit([NamedComposedUnit('inch', ComposedUnit([NamedComposedUnit('cm', ComposedUnit([LeafUnit('m', True)], [], 0.01), False)], [], 2.54), False)], [], 12), False)], [], 3), False)], [], 5.5), False)], [], 40), False)], [], 8), False))"
      ]
     },
     "execution_count": 18,
     "metadata": {},
     "output_type": "execute_result"
    }
   ],
   "source": [
    "unithelper.miles(dataframe_dictionary['MorningRun-1654752525'].Distance)"
   ]
  },
  {
   "cell_type": "markdown",
   "metadata": {},
   "source": [
    "# Export Dictionary of Dataframes to Json files"
   ]
  },
  {
   "cell_type": "code",
   "execution_count": 7,
   "metadata": {},
   "outputs": [],
   "source": [
    "for key,values in dataframe_dictionary.items():\n",
    "    values.to_json(f\"../../Data/JSONData/{key}.json\", orient='records')"
   ]
  },
  {
   "cell_type": "code",
   "execution_count": 8,
   "metadata": {},
   "outputs": [],
   "source": [
    "main_df = dictionaryOfDF_toDF(dataframe_dictionary)\n",
    "main_df.to_json(f\"../../Data/JSONData/MainDataset.json\", orient='records')"
   ]
  },
  {
   "cell_type": "code",
   "execution_count": 13,
   "metadata": {
    "scrolled": true
   },
   "outputs": [
    {
     "data": {
      "text/html": [
       "<div>\n",
       "<style scoped>\n",
       "    .dataframe tbody tr th:only-of-type {\n",
       "        vertical-align: middle;\n",
       "    }\n",
       "\n",
       "    .dataframe tbody tr th {\n",
       "        vertical-align: top;\n",
       "    }\n",
       "\n",
       "    .dataframe thead th {\n",
       "        text-align: right;\n",
       "    }\n",
       "</style>\n",
       "<table border=\"1\" class=\"dataframe\">\n",
       "  <thead>\n",
       "    <tr style=\"text-align: right;\">\n",
       "      <th></th>\n",
       "      <th>ActivityID</th>\n",
       "      <th>Time</th>\n",
       "      <th>HeartRate</th>\n",
       "      <th>Distance</th>\n",
       "      <th>Altitude</th>\n",
       "      <th>Grade_Smooth</th>\n",
       "      <th>Moving</th>\n",
       "      <th>Velocity_Smooth</th>\n",
       "      <th>Latitude</th>\n",
       "      <th>Longitude</th>\n",
       "      <th>Date</th>\n",
       "    </tr>\n",
       "  </thead>\n",
       "  <tbody>\n",
       "    <tr>\n",
       "      <th>0</th>\n",
       "      <td>1654752525</td>\n",
       "      <td>0</td>\n",
       "      <td>118</td>\n",
       "      <td>0.0</td>\n",
       "      <td>63.2</td>\n",
       "      <td>-6.8</td>\n",
       "      <td>False</td>\n",
       "      <td>0.0</td>\n",
       "      <td>37.721417</td>\n",
       "      <td>-122.472470</td>\n",
       "      <td>2018-06-22</td>\n",
       "    </tr>\n",
       "    <tr>\n",
       "      <th>1</th>\n",
       "      <td>1654752525</td>\n",
       "      <td>7</td>\n",
       "      <td>121</td>\n",
       "      <td>15.2</td>\n",
       "      <td>62.2</td>\n",
       "      <td>-6.7</td>\n",
       "      <td>True</td>\n",
       "      <td>2.2</td>\n",
       "      <td>37.721397</td>\n",
       "      <td>-122.472641</td>\n",
       "      <td>2018-06-22</td>\n",
       "    </tr>\n",
       "    <tr>\n",
       "      <th>2</th>\n",
       "      <td>1654752525</td>\n",
       "      <td>14</td>\n",
       "      <td>119</td>\n",
       "      <td>35.5</td>\n",
       "      <td>60.8</td>\n",
       "      <td>-6.4</td>\n",
       "      <td>True</td>\n",
       "      <td>2.5</td>\n",
       "      <td>37.721386</td>\n",
       "      <td>-122.472872</td>\n",
       "      <td>2018-06-22</td>\n",
       "    </tr>\n",
       "    <tr>\n",
       "      <th>3</th>\n",
       "      <td>1654752525</td>\n",
       "      <td>16</td>\n",
       "      <td>123</td>\n",
       "      <td>40.4</td>\n",
       "      <td>60.5</td>\n",
       "      <td>-6.0</td>\n",
       "      <td>True</td>\n",
       "      <td>2.8</td>\n",
       "      <td>37.721386</td>\n",
       "      <td>-122.472928</td>\n",
       "      <td>2018-06-22</td>\n",
       "    </tr>\n",
       "    <tr>\n",
       "      <th>4</th>\n",
       "      <td>1654752525</td>\n",
       "      <td>24</td>\n",
       "      <td>123</td>\n",
       "      <td>60.6</td>\n",
       "      <td>59.3</td>\n",
       "      <td>-5.7</td>\n",
       "      <td>True</td>\n",
       "      <td>2.5</td>\n",
       "      <td>37.721321</td>\n",
       "      <td>-122.473142</td>\n",
       "      <td>2018-06-22</td>\n",
       "    </tr>\n",
       "  </tbody>\n",
       "</table>\n",
       "</div>"
      ],
      "text/plain": [
       "   ActivityID  Time  HeartRate  Distance  Altitude  Grade_Smooth  Moving  \\\n",
       "0  1654752525     0        118       0.0      63.2          -6.8   False   \n",
       "1  1654752525     7        121      15.2      62.2          -6.7    True   \n",
       "2  1654752525    14        119      35.5      60.8          -6.4    True   \n",
       "3  1654752525    16        123      40.4      60.5          -6.0    True   \n",
       "4  1654752525    24        123      60.6      59.3          -5.7    True   \n",
       "\n",
       "   Velocity_Smooth   Latitude   Longitude        Date  \n",
       "0              0.0  37.721417 -122.472470  2018-06-22  \n",
       "1              2.2  37.721397 -122.472641  2018-06-22  \n",
       "2              2.5  37.721386 -122.472872  2018-06-22  \n",
       "3              2.8  37.721386 -122.472928  2018-06-22  \n",
       "4              2.5  37.721321 -122.473142  2018-06-22  "
      ]
     },
     "execution_count": 13,
     "metadata": {},
     "output_type": "execute_result"
    }
   ],
   "source": [
    "main_df.head()"
   ]
  },
  {
   "cell_type": "markdown",
   "metadata": {},
   "source": [
    "## Data to SQL database"
   ]
  },
  {
   "cell_type": "code",
   "execution_count": 10,
   "metadata": {},
   "outputs": [],
   "source": [
    "from sqlalchemy.orm import Session\n",
    "from sqlalchemy import create_engine, ForeignKey\n",
    "from sqlalchemy import Column, Date, Integer, String\n",
    "from sqlalchemy.ext.declarative import declarative_base\n",
    "\n",
    "import pandas as pd\n",
    "\n",
    "engine = create_engine('sqlite:///../../Analysis/db/RunningData.db')"
   ]
  },
  {
   "cell_type": "code",
   "execution_count": 11,
   "metadata": {},
   "outputs": [],
   "source": [
    "'''\n",
    "Import Running data into the  \"RunningData\" SQLite database table Segments.\n",
    "'''\n",
    "\n",
    "Base = declarative_base()\n",
    "\n",
    "class Segments(Base):\n",
    "    __tablename__ = \"Segments\"\n",
    "    ids = Column(Integer, primary_key = True)\n",
    "    activityID = Column(Integer)\n",
    "    time = Column(Integer)\n",
    "    distance = Column(Integer)\n",
    "    heartrate = Column(Integer)\n",
    "    altitude = Column(Integer)\n",
    "    grade_smooth = Column(Integer)\n",
    "    moving = Column(Integer)\n",
    "    velocity_smooth = Column(Integer)\n",
    "    latitude = Column(Integer)\n",
    "    longitude = Column(Integer)\n",
    "    \n",
    "    def __init__(self, activityID, time, heartrate, distance, altitude, grade_smooth, moving, \\\n",
    "                velocity_smooth, latitude, longitude):\n",
    "        self.activityID = activityID\n",
    "        self.time = time\n",
    "        self.heartrate = heartrate\n",
    "        self.distance = distance\n",
    "        self.altitude = altitude \n",
    "        self.grade_smooth = grade_smooth\n",
    "        self.moving = moving\n",
    "        self.velocity_smooth = velocity_smooth\n",
    "        self.latitude = latitude\n",
    "        self.longitude = longitude\n",
    "        \n",
    "Base.metadata.create_all(engine)\n",
    "\n",
    "session = Session(bind = engine)\n",
    "for index, rows in main_df.iterrows():\n",
    "    session.add(Segments( activityID =rows['ActivityID'],time = rows['Time'], heartrate = rows['HeartRate'],distance = rows['Distance'], \n",
    "                         altitude = rows['Altitude'], grade_smooth = rows['Grade_Smooth'], moving = rows['Moving'],\n",
    "                         velocity_smooth = rows['Velocity_Smooth'],latitude = rows['Latitude'],longitude = rows['Longitude']))\n",
    "\n",
    "session.commit()"
   ]
  },
  {
   "cell_type": "code",
   "execution_count": 12,
   "metadata": {},
   "outputs": [
    {
     "data": {
      "text/plain": [
       "[(1, 1654752525, 0, 0, 118, 63.2, -6.8, 0, 0, 37.721417, -122.47247),\n",
       " (2, 1654752525, 7, 15.2, 121, 62.2, -6.7, 1, 2.2, 37.721397, -122.472641),\n",
       " (3, 1654752525, 14, 35.5, 119, 60.8, -6.4, 1, 2.5, 37.721386, -122.472872),\n",
       " (4, 1654752525, 16, 40.4, 123, 60.5, -6, 1, 2.8, 37.721386, -122.472928),\n",
       " (5, 1654752525, 24, 60.6, 123, 59.3, -5.7, 1, 2.5, 37.721321, -122.473142),\n",
       " (6, 1654752525, 33, 83, 124, 58.1, -5.6, 1, 2.5, 37.721273, -122.473387),\n",
       " (7, 1654752525, 36, 91.3, 127, 57.6, -6, 1, 2.6, 37.721261, -122.473481),\n",
       " (8, 1654752525, 44, 113.2, 127, 56.4, -6.2, 1, 2.7, 37.721206, -122.473719),\n",
       " (9, 1654752525, 53, 135.8, 128, 54.8, -5.9, 1, 2.6, 37.721182, -122.473969),\n",
       " (10, 1654752525, 61, 156, 126, 53.6, -5.9, 1, 2.5, 37.72115, -122.474193)]"
      ]
     },
     "execution_count": 12,
     "metadata": {},
     "output_type": "execute_result"
    }
   ],
   "source": [
    "#Test values are in database\n",
    "[i for i in engine.execute('SELECT * FROM Segments LIMIT 10;')]"
   ]
  },
  {
   "cell_type": "code",
   "execution_count": null,
   "metadata": {},
   "outputs": [],
   "source": []
  },
  {
   "cell_type": "code",
   "execution_count": null,
   "metadata": {},
   "outputs": [],
   "source": []
  }
 ],
 "metadata": {
  "kernelspec": {
   "display_name": "RunningAnalysis Environment",
   "language": "python",
   "name": "runninganalysis-env"
  },
  "language_info": {
   "codemirror_mode": {
    "name": "ipython",
    "version": 3
   },
   "file_extension": ".py",
   "mimetype": "text/x-python",
   "name": "python",
   "nbconvert_exporter": "python",
   "pygments_lexer": "ipython3",
   "version": "3.6.5"
  }
 },
 "nbformat": 4,
 "nbformat_minor": 2
}
